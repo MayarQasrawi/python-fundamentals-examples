{
  "nbformat": 4,
  "nbformat_minor": 0,
  "metadata": {
    "colab": {
      "provenance": [],
      "authorship_tag": "ABX9TyP49WRHvZq8Bk5iZgoFS/7S",
      "include_colab_link": true
    },
    "kernelspec": {
      "name": "python3",
      "display_name": "Python 3"
    },
    "language_info": {
      "name": "python"
    }
  },
  "cells": [
    {
      "cell_type": "markdown",
      "metadata": {
        "id": "view-in-github",
        "colab_type": "text"
      },
      "source": [
        "<a href=\"https://colab.research.google.com/github/MayarQasrawi/python-fundamentals-examples/blob/main/Check_Prime_Number.ipynb\" target=\"_parent\"><img src=\"https://colab.research.google.com/assets/colab-badge.svg\" alt=\"Open In Colab\"/></a>"
      ]
    },
    {
      "cell_type": "markdown",
      "source": [
        "# Python Program to Check Prime Number"
      ],
      "metadata": {
        "id": "I_8cvf3D4WwP"
      }
    },
    {
      "cell_type": "code",
      "source": [
        "def isPrime(num):\n",
        "   if num <= 1:\n",
        "        return False\n",
        "   if num == 2:\n",
        "        return True\n",
        "   if num % 2 == 0:\n",
        "        return False\n",
        "\n",
        "   if num > 1:\n",
        "    for i in range(2,num):\n",
        "      if(num%i==0):\n",
        "        return False\n",
        "    return True\n",
        "   else:\n",
        "    return False\n",
        "\n",
        "\n",
        "test_numbers = [1,3,4,2,11,7,8,9]\n",
        "\n",
        "for i in test_numbers:\n",
        "   print(f\"is {i} a prime number? {'yes' if isPrime(i) else 'no'}\")\n",
        "\n",
        "\n",
        "\n"
      ],
      "metadata": {
        "colab": {
          "base_uri": "https://localhost:8080/"
        },
        "id": "L3zgyV_M4eGg",
        "outputId": "ea67ab5a-71cc-4db2-c949-bf112a807c0d"
      },
      "execution_count": 23,
      "outputs": [
        {
          "output_type": "stream",
          "name": "stdout",
          "text": [
            "is 1 a prime number? no\n",
            "is 3 a prime number? yes\n",
            "is 4 a prime number? no\n",
            "is 2 a prime number? yes\n",
            "is 11 a prime number? yes\n",
            "is 7 a prime number? yes\n",
            "is 8 a prime number? no\n",
            "is 9 a prime number? no\n"
          ]
        }
      ]
    },
    {
      "cell_type": "markdown",
      "source": [
        "**Mathematical principle:** If a number n has a divisor larger than √n, then it must also have a corresponding divisor smaller than √n.\n"
      ],
      "metadata": {
        "id": "gL82N-8g9EQ1"
      }
    },
    {
      "cell_type": "code",
      "source": [
        "# first method\n",
        "# range(2, 25):  checks 2,3,4,5,6,7,8,9,10,11,12,13,14,15,16,17,18,19,20,21,22,23,24\n",
        "\n",
        "# Optimized method\n",
        "# range(2, int(25**0.5) + 1):  checks only 2,3,4,5\n",
        "\n",
        "def isPrimeOptimized(num):\n",
        "    if num <= 1:\n",
        "        return False\n",
        "    # edite this line\n",
        "    for i in range(2, int(num**0.5) + 1):\n",
        "        if num % i == 0:\n",
        "            return False\n",
        "    return True\n",
        "\n"
      ],
      "metadata": {
        "id": "c2ZOhgVo9Gm3"
      },
      "execution_count": 25,
      "outputs": []
    }
  ]
}