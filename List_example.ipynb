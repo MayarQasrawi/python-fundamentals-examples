{
  "nbformat": 4,
  "nbformat_minor": 0,
  "metadata": {
    "colab": {
      "provenance": [],
      "authorship_tag": "ABX9TyOU45PALs47f/4Fxf7hUIoz",
      "include_colab_link": true
    },
    "kernelspec": {
      "name": "python3",
      "display_name": "Python 3"
    },
    "language_info": {
      "name": "python"
    }
  },
  "cells": [
    {
      "cell_type": "markdown",
      "metadata": {
        "id": "view-in-github",
        "colab_type": "text"
      },
      "source": [
        "<a href=\"https://colab.research.google.com/github/MayarQasrawi/python-fundamentals-examples/blob/main/List_example.ipynb\" target=\"_parent\"><img src=\"https://colab.research.google.com/assets/colab-badge.svg\" alt=\"Open In Colab\"/></a>"
      ]
    },
    {
      "cell_type": "markdown",
      "source": [
        "# Python Program to Merge Two Lists and inverse the merged list\n"
      ],
      "metadata": {
        "id": "_1urPJvn-G6n"
      }
    },
    {
      "cell_type": "code",
      "source": [
        "def merge_two_list1(list1,list2):\n",
        "  return list1+list2\n",
        "\n",
        "def merge_two_list2(list1,list2):\n",
        "    result = list1.copy()\n",
        "    result.extend(list2)\n",
        "    return result\n",
        "\n",
        "def merge_two_list3(list1,list2):\n",
        "  for x in list2:\n",
        "   list1.append(x)\n",
        "  return list1\n",
        "\n",
        "list1=[1,2,3,4,5]\n",
        "list2=[6,7,8,9,10]\n",
        "print(merge_two_list1(list1,list2))\n",
        "print(merge_two_list2(list1,list2))\n",
        "print(merge_two_list3(list1,list2))"
      ],
      "metadata": {
        "colab": {
          "base_uri": "https://localhost:8080/"
        },
        "id": "JzbLNggoEVzk",
        "outputId": "6ec7052b-5848-41d7-f2f8-648d8d617239"
      },
      "execution_count": 17,
      "outputs": [
        {
          "output_type": "stream",
          "name": "stdout",
          "text": [
            "[1, 2, 3, 4, 5, 6, 7, 8, 9, 10]\n",
            "[1, 2, 3, 4, 5, 6, 7, 8, 9, 10]\n",
            "[1, 2, 3, 4, 5, 6, 7, 8, 9, 10]\n"
          ]
        }
      ]
    },
    {
      "cell_type": "code",
      "source": [
        "def inverse_list(li):\n",
        "  return li[::-1]\n",
        "\n",
        "li=[1,2,3,4,5]\n",
        "print(inverse_list(li))\n"
      ],
      "metadata": {
        "colab": {
          "base_uri": "https://localhost:8080/"
        },
        "id": "lu_dRZuqF_c7",
        "outputId": "0b9893ea-f3bc-418f-d7a9-e87dab4be786"
      },
      "execution_count": 18,
      "outputs": [
        {
          "output_type": "stream",
          "name": "stdout",
          "text": [
            "[5, 4, 3, 2, 1]\n"
          ]
        }
      ]
    },
    {
      "cell_type": "code",
      "source": [
        "def merge_two_list_inverse(list1,list2):\n",
        "  return inverse_list(merge_two_list1(list1,list2))\n",
        "\n",
        "merge_two_list_inverse(list1,list2)"
      ],
      "metadata": {
        "colab": {
          "base_uri": "https://localhost:8080/"
        },
        "id": "x6dZBUxEGW8b",
        "outputId": "9daf6976-b08c-4122-d6f9-66e38d64fe7e"
      },
      "execution_count": 19,
      "outputs": [
        {
          "output_type": "execute_result",
          "data": {
            "text/plain": [
              "[10, 9, 8, 7, 6, 10, 9, 8, 7, 6, 5, 4, 3, 2, 1]"
            ]
          },
          "metadata": {},
          "execution_count": 19
        }
      ]
    },
    {
      "cell_type": "markdown",
      "source": [
        "# Python Program to Remove Duplicate Element From a List\n"
      ],
      "metadata": {
        "id": "i38gbJt3Gxuh"
      }
    },
    {
      "cell_type": "code",
      "source": [
        "\n",
        "def list_remove_duplicate(li):\n",
        "  \"\"\"Remove duplicates using set() - fastest but order not preserved\"\"\"\n",
        "  return list(set(li))\n",
        "\n",
        "li=[1,2,3,4,5,1,2,3,4,5]\n",
        "print(list_remove_duplicate(li))\n"
      ],
      "metadata": {
        "colab": {
          "base_uri": "https://localhost:8080/"
        },
        "id": "A2F9V9kKG5oR",
        "outputId": "075f11e7-21b4-4398-e3af-b305547c9132"
      },
      "execution_count": 20,
      "outputs": [
        {
          "output_type": "stream",
          "name": "stdout",
          "text": [
            "[1, 2, 3, 4, 5]\n"
          ]
        }
      ]
    },
    {
      "cell_type": "code",
      "source": [
        "def remove_duplicates_loop(lst):\n",
        "    \"\"\"Remove duplicates using a simple loop - preserves order\"\"\"\n",
        "    result = []\n",
        "    for item in lst:\n",
        "        if item not in result:\n",
        "            result.append(item)\n",
        "    return result\n",
        "\n",
        "print(remove_duplicates_loop(li))"
      ],
      "metadata": {
        "colab": {
          "base_uri": "https://localhost:8080/"
        },
        "id": "GspxCpl7H0LQ",
        "outputId": "989b33ee-fe08-478e-9979-2dec539c865b"
      },
      "execution_count": 21,
      "outputs": [
        {
          "output_type": "stream",
          "name": "stdout",
          "text": [
            "[1, 2, 3, 4, 5]\n"
          ]
        }
      ]
    },
    {
      "cell_type": "markdown",
      "source": [
        "# Python Program to Differentiate Between del, remove, and pop on a List"
      ],
      "metadata": {
        "id": "xs-IRTUTH-QH"
      }
    },
    {
      "cell_type": "markdown",
      "source": [
        "# `pop()`\n",
        "\n",
        " > Delete by index AND return the value\n",
        "\n",
        " * Returns the removed element\n",
        "* `list.pop(2)` removes index `2` and returns its value\n",
        "* `list.pop()` removes last element and returns it"
      ],
      "metadata": {
        "id": "o4BZN-uSIyU6"
      }
    },
    {
      "cell_type": "code",
      "source": [
        "my_list= [10,20,30,40,50]\n",
        "print(my_list.pop())"
      ],
      "metadata": {
        "colab": {
          "base_uri": "https://localhost:8080/"
        },
        "id": "wROjQXGOIAZ0",
        "outputId": "1764dc10-5f3d-4471-ba65-6b63aa517b30"
      },
      "execution_count": 28,
      "outputs": [
        {
          "output_type": "stream",
          "name": "stdout",
          "text": [
            "50\n"
          ]
        }
      ]
    },
    {
      "cell_type": "markdown",
      "source": [
        "# `remove()`\n",
        "\n",
        "\n",
        "*  `remove(20)` looks for the value `2`0 in the list\n",
        "If 20 doesn't exist, Python raises `ValueError.\n",
        "*   No return value\n",
        "* list.remove(20) removes first occurrence of 20\n",
        "\n",
        "\n",
        "\n",
        "\n",
        "\n",
        "\n"
      ],
      "metadata": {
        "id": "XR_4PGTGJE0n"
      }
    },
    {
      "cell_type": "code",
      "source": [
        "if 20 in my_list:\n",
        "    my_list.remove(20)\n",
        "    print(my_list)\n",
        "else:\n",
        "    print(\"20 not found in list\")\n",
        "\n"
      ],
      "metadata": {
        "colab": {
          "base_uri": "https://localhost:8080/"
        },
        "id": "UtRQbrofJAhR",
        "outputId": "a5b106fc-f5d0-45b9-9f7f-6647cc20d77b"
      },
      "execution_count": 29,
      "outputs": [
        {
          "output_type": "stream",
          "name": "stdout",
          "text": [
            "[10, 30, 40]\n"
          ]
        }
      ]
    },
    {
      "cell_type": "markdown",
      "source": [
        "# `del`\n",
        "\n",
        "* No return value\n",
        "* `del list[2]` removes element at index 2\n",
        "* Index/Slice\n"
      ],
      "metadata": {
        "id": "tQbr1k2oKdDq"
      }
    },
    {
      "cell_type": "code",
      "source": [],
      "metadata": {
        "id": "v4osAh8cLr_1"
      },
      "execution_count": null,
      "outputs": []
    },
    {
      "cell_type": "markdown",
      "source": [
        "# Python Program to Convert Two Lists Into a Dictionary\n"
      ],
      "metadata": {
        "id": "hwtPJNigMf9Q"
      }
    },
    {
      "cell_type": "code",
      "source": [
        "def convert_two_list_to_dict(keys,values):\n",
        "  return dict(zip(keys,values))\n",
        "\n",
        "\n",
        "keys = [\"name\", \"age\", \"country\"]\n",
        "values = [\"Mayar\", 21, \"Palestine\"]\n",
        "\n",
        "print( convert_two_list_to_dict(keys,values))\n",
        "\n",
        "print(\"-\"*30)\n",
        "print(\"Method 2: Using dictionary comprehension\")\n",
        "dictionary2 = {k: v for k, v in zip(keys, values)}\n",
        "print(dictionary2)\n"
      ],
      "metadata": {
        "colab": {
          "base_uri": "https://localhost:8080/"
        },
        "id": "wdoRnlRoMfRO",
        "outputId": "b7a9401f-3ae0-4399-b315-7963f9e76d39"
      },
      "execution_count": 33,
      "outputs": [
        {
          "output_type": "stream",
          "name": "stdout",
          "text": [
            "{'name': 'Mayar', 'age': 21, 'country': 'Palestine'}\n",
            "------------------------------\n",
            "Method 2: Using dictionary comprehension\n",
            "{'name': 'Mayar', 'age': 21, 'country': 'Palestine'}\n"
          ]
        }
      ]
    },
    {
      "cell_type": "markdown",
      "source": [
        "# Python Program to Make a Flattened List from Nested List\n",
        "\n",
        "\n",
        "\n"
      ],
      "metadata": {
        "id": "0syBeYuuNcLi"
      }
    },
    {
      "cell_type": "code",
      "source": [
        "def flatten_list(nested_list):\n",
        "    flat_list=[]\n",
        "\n",
        "    for sub in nested_list:\n",
        "        if type(sub) is list:\n",
        "            for item in sub:\n",
        "                flat_list.append(item)\n",
        "        else:\n",
        "            flat_list.append(sub)\n",
        "    return flat_list\n",
        "\n",
        "\n",
        "nested_list=[[1,2,3],[4,5,6],[7,8,9]]\n",
        "print(\"nested list: \"+str(nested_list))\n",
        "print(\"flatten list: \"+str(flatten_list(nested_list)))\n",
        ""
      ],
      "metadata": {
        "colab": {
          "base_uri": "https://localhost:8080/"
        },
        "id": "FpiWdh92NbMb",
        "outputId": "79f05bcf-697b-43c3-825b-f9eb0b66038b"
      },
      "execution_count": 38,
      "outputs": [
        {
          "output_type": "stream",
          "name": "stdout",
          "text": [
            "nested list: [[1, 2, 3], [4, 5, 6], [7, 8, 9]]\n",
            "flatten list: [1, 2, 3, 4, 5, 6, 7, 8, 9]\n"
          ]
        }
      ]
    },
    {
      "cell_type": "markdown",
      "source": [
        "# Python Program that calculates the difference in memory address in list\n"
      ],
      "metadata": {
        "id": "6Db7l51rRgSY"
      }
    },
    {
      "cell_type": "code",
      "source": [
        "nums = [10, 20, 30, 40, 50,\"Mayar\",5.5,True]\n",
        "\n",
        "for i in range(len(nums) - 1):\n",
        "    addr1 = id(nums[i])\n",
        "    addr2 = id(nums[i + 1])\n",
        "    diff = addr2 - addr1\n",
        "    print(f\"Element {nums[i]} at {addr1}, Element {nums[i+1]} at {addr2}, Difference = {diff}\")\n"
      ],
      "metadata": {
        "colab": {
          "base_uri": "https://localhost:8080/"
        },
        "id": "u2_AxFcDNQhl",
        "outputId": "8526cdf8-092e-4ebb-f414-8164d83af2f6"
      },
      "execution_count": 41,
      "outputs": [
        {
          "output_type": "stream",
          "name": "stdout",
          "text": [
            "Element 10 at 10758024, Element 20 at 10758344, Difference = 320\n",
            "Element 20 at 10758344, Element 30 at 10758664, Difference = 320\n",
            "Element 30 at 10758664, Element 40 at 10758984, Difference = 320\n",
            "Element 40 at 10758984, Element 50 at 10759304, Difference = 320\n",
            "Element 50 at 10759304, Element Mayar at 139768883390192, Difference = 139768872630888\n",
            "Element Mayar at 139768883390192, Element 5.5 at 139768485432592, Difference = -397957600\n",
            "Element 5.5 at 139768485432592, Element True at 9696896, Difference = -139768475735696\n"
          ]
        }
      ]
    },
    {
      "cell_type": "code",
      "source": [],
      "metadata": {
        "id": "K00VT-27RznU"
      },
      "execution_count": null,
      "outputs": []
    }
  ]
}