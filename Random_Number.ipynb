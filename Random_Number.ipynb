{
  "nbformat": 4,
  "nbformat_minor": 0,
  "metadata": {
    "colab": {
      "provenance": [],
      "authorship_tag": "ABX9TyOlTcUKqHly8rmS+EhMBW5R",
      "include_colab_link": true
    },
    "kernelspec": {
      "name": "python3",
      "display_name": "Python 3"
    },
    "language_info": {
      "name": "python"
    }
  },
  "cells": [
    {
      "cell_type": "markdown",
      "metadata": {
        "id": "view-in-github",
        "colab_type": "text"
      },
      "source": [
        "<a href=\"https://colab.research.google.com/github/MayarQasrawi/python-fundamentals-examples/blob/main/Random_Number.ipynb\" target=\"_parent\"><img src=\"https://colab.research.google.com/assets/colab-badge.svg\" alt=\"Open In Colab\"/></a>"
      ]
    },
    {
      "cell_type": "markdown",
      "source": [
        "# Python Program to Generate a Random Number:\n"
      ],
      "metadata": {
        "id": "rH8lNuWfmM9x"
      }
    },
    {
      "cell_type": "code",
      "source": [
        "import random"
      ],
      "metadata": {
        "id": "VAvgYoE6mQQv"
      },
      "execution_count": 36,
      "outputs": []
    },
    {
      "cell_type": "markdown",
      "source": [
        "`random.randrange(start, stop, step)`\n",
        "\n",
        "* start = 0 → the sequence starts at 0.\n",
        "\n",
        "* stop = 50 → the sequence goes up to (but not including) 50.\n",
        "\n",
        "* step = 5 → numbers are spaced by 5.\n",
        "\n",
        "\n"
      ],
      "metadata": {
        "id": "w8ICiExpt2nQ"
      }
    },
    {
      "cell_type": "code",
      "source": [
        "print(random.randrange(0, 50, 5)) # Random number between 0 and 50 step of 5\n"
      ],
      "metadata": {
        "colab": {
          "base_uri": "https://localhost:8080/"
        },
        "id": "eT5yNhXStuMG",
        "outputId": "b7a32267-408f-4518-d85a-e68f8e168f82"
      },
      "execution_count": 33,
      "outputs": [
        {
          "output_type": "stream",
          "name": "stdout",
          "text": [
            "30\n"
          ]
        }
      ]
    },
    {
      "cell_type": "markdown",
      "source": [
        "## `random.random()` and `random.uniform(10, 20) ` Random float"
      ],
      "metadata": {
        "id": "USxednXSuNOe"
      }
    },
    {
      "cell_type": "code",
      "source": [
        "print(random.random())      # Random float between 0.0 and 1.0\n"
      ],
      "metadata": {
        "colab": {
          "base_uri": "https://localhost:8080/"
        },
        "id": "O9chgQIeuEg1",
        "outputId": "a345ad15-b27b-4af7-cd55-c18502c093a8"
      },
      "execution_count": 34,
      "outputs": [
        {
          "output_type": "stream",
          "name": "stdout",
          "text": [
            "0.5331266031164393\n"
          ]
        }
      ]
    },
    {
      "cell_type": "code",
      "source": [
        "print(random.uniform(10, 20)) # Random float between 10 and 20"
      ],
      "metadata": {
        "colab": {
          "base_uri": "https://localhost:8080/"
        },
        "id": "zbXzlwx9ulUB",
        "outputId": "7862bde2-e3d2-485b-9672-c810b24fa3b8"
      },
      "execution_count": 35,
      "outputs": [
        {
          "output_type": "stream",
          "name": "stdout",
          "text": [
            "10.154747696094779\n"
          ]
        }
      ]
    },
    {
      "cell_type": "markdown",
      "source": [
        "## Generate a random integer `random.randint(10, 20)`"
      ],
      "metadata": {
        "id": "biTmRdz0u0Ck"
      }
    },
    {
      "cell_type": "code",
      "source": [
        "print(random.randint(10, 20)) # Random integer between 10 and 20"
      ],
      "metadata": {
        "id": "v8N95Cbqu3Aj"
      },
      "execution_count": null,
      "outputs": []
    }
  ]
}