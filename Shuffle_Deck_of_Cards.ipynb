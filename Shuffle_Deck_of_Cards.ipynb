{
  "nbformat": 4,
  "nbformat_minor": 0,
  "metadata": {
    "colab": {
      "provenance": [],
      "authorship_tag": "ABX9TyPBeFKGL34ttL3Va0vkkrhD",
      "include_colab_link": true
    },
    "kernelspec": {
      "name": "python3",
      "display_name": "Python 3"
    },
    "language_info": {
      "name": "python"
    }
  },
  "cells": [
    {
      "cell_type": "markdown",
      "metadata": {
        "id": "view-in-github",
        "colab_type": "text"
      },
      "source": [
        "<a href=\"https://colab.research.google.com/github/MayarQasrawi/python-fundamentals-examples/blob/main/Shuffle_Deck_of_Cards.ipynb\" target=\"_parent\"><img src=\"https://colab.research.google.com/assets/colab-badge.svg\" alt=\"Open In Colab\"/></a>"
      ]
    },
    {
      "cell_type": "markdown",
      "source": [
        "# Python Program to Shuffle Deck of Cards. see this [link](https://www.programiz.com/python-programming/examples/shuffle-card)\n",
        "\n"
      ],
      "metadata": {
        "id": "x72tFM1UxUNv"
      }
    },
    {
      "cell_type": "markdown",
      "source": [
        "* itertools → helps build combinations/product easily.\n",
        "\n",
        "* random → used to shuffle and generate random numbers.\n"
      ],
      "metadata": {
        "id": "bPU7Lwh5wQ6Z"
      }
    },
    {
      "cell_type": "code",
      "source": [
        "import itertools, random\n"
      ],
      "metadata": {
        "id": "IvxOp0CowT5m"
      },
      "execution_count": 38,
      "outputs": []
    },
    {
      "cell_type": "markdown",
      "source": [
        "## Create a deck of cards\n",
        "* range(1,14) → numbers 1 to 13 (Ace = 1, Jack = 11, Queen = 12, King = 13).\n",
        "\n",
        "* ['Spade','Heart','Diamond','Club'] → the 4 suits.\n",
        "\n",
        "* itertools.product() → creates all possible pairs of number + suit."
      ],
      "metadata": {
        "id": "r4BFcl5SwuSL"
      }
    },
    {
      "cell_type": "code",
      "source": [
        "# make a deck of cards\n",
        "deck = list(itertools.product(range(1,14),['Spade','Heart','Diamond','Club']))"
      ],
      "metadata": {
        "id": "QA7coMS-woL1"
      },
      "execution_count": 39,
      "outputs": []
    },
    {
      "cell_type": "code",
      "source": [
        "print(len(deck))\n",
        "deck"
      ],
      "metadata": {
        "colab": {
          "base_uri": "https://localhost:8080/"
        },
        "id": "44vdUiYCxCxO",
        "outputId": "e8feb021-071c-4a08-e71b-016ac4fc8b38"
      },
      "execution_count": 43,
      "outputs": [
        {
          "output_type": "stream",
          "name": "stdout",
          "text": [
            "52\n"
          ]
        },
        {
          "output_type": "execute_result",
          "data": {
            "text/plain": [
              "[(13, 'Heart'),\n",
              " (6, 'Diamond'),\n",
              " (1, 'Heart'),\n",
              " (12, 'Spade'),\n",
              " (13, 'Spade'),\n",
              " (2, 'Club'),\n",
              " (8, 'Spade'),\n",
              " (11, 'Heart'),\n",
              " (11, 'Club'),\n",
              " (5, 'Heart'),\n",
              " (13, 'Club'),\n",
              " (11, 'Diamond'),\n",
              " (12, 'Heart'),\n",
              " (9, 'Heart'),\n",
              " (10, 'Heart'),\n",
              " (5, 'Spade'),\n",
              " (7, 'Club'),\n",
              " (12, 'Diamond'),\n",
              " (1, 'Diamond'),\n",
              " (10, 'Diamond'),\n",
              " (13, 'Diamond'),\n",
              " (5, 'Club'),\n",
              " (3, 'Heart'),\n",
              " (2, 'Diamond'),\n",
              " (4, 'Diamond'),\n",
              " (6, 'Club'),\n",
              " (10, 'Club'),\n",
              " (8, 'Heart'),\n",
              " (8, 'Diamond'),\n",
              " (6, 'Heart'),\n",
              " (3, 'Diamond'),\n",
              " (3, 'Spade'),\n",
              " (2, 'Heart'),\n",
              " (7, 'Heart'),\n",
              " (7, 'Spade'),\n",
              " (11, 'Spade'),\n",
              " (6, 'Spade'),\n",
              " (4, 'Spade'),\n",
              " (9, 'Diamond'),\n",
              " (3, 'Club'),\n",
              " (1, 'Spade'),\n",
              " (5, 'Diamond'),\n",
              " (4, 'Club'),\n",
              " (8, 'Club'),\n",
              " (10, 'Spade'),\n",
              " (1, 'Club'),\n",
              " (4, 'Heart'),\n",
              " (9, 'Club'),\n",
              " (12, 'Club'),\n",
              " (9, 'Spade'),\n",
              " (7, 'Diamond'),\n",
              " (2, 'Spade')]"
            ]
          },
          "metadata": {},
          "execution_count": 43
        }
      ]
    },
    {
      "cell_type": "code",
      "source": [
        "# shuffle the cards\n",
        "random.shuffle(deck)\n",
        "\n",
        "# draw five cards\n",
        "print(\"You got:\")\n",
        "for i in range(5):\n",
        "   print(deck[i][0], \"of\", deck[i][1])"
      ],
      "metadata": {
        "colab": {
          "base_uri": "https://localhost:8080/"
        },
        "id": "9cpynCCwwdLp",
        "outputId": "33881768-5fe5-4aa7-d8fc-933d6b2ebc7a"
      },
      "execution_count": 40,
      "outputs": [
        {
          "output_type": "stream",
          "name": "stdout",
          "text": [
            "You got:\n",
            "13 of Heart\n",
            "6 of Diamond\n",
            "1 of Heart\n",
            "12 of Spade\n",
            "13 of Spade\n"
          ]
        }
      ]
    },
    {
      "cell_type": "code",
      "source": [],
      "metadata": {
        "id": "KVICc7FLxBw0"
      },
      "execution_count": null,
      "outputs": []
    }
  ]
}