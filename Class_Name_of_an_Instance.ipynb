{
  "nbformat": 4,
  "nbformat_minor": 0,
  "metadata": {
    "colab": {
      "provenance": [],
      "authorship_tag": "ABX9TyMrisB5W7O2Zaf9j9DV5+Lm",
      "include_colab_link": true
    },
    "kernelspec": {
      "name": "python3",
      "display_name": "Python 3"
    },
    "language_info": {
      "name": "python"
    }
  },
  "cells": [
    {
      "cell_type": "markdown",
      "metadata": {
        "id": "view-in-github",
        "colab_type": "text"
      },
      "source": [
        "<a href=\"https://colab.research.google.com/github/MayarQasrawi/python-fundamentals-examples/blob/main/Class_Name_of_an_Instance.ipynb\" target=\"_parent\"><img src=\"https://colab.research.google.com/assets/colab-badge.svg\" alt=\"Open In Colab\"/></a>"
      ]
    },
    {
      "cell_type": "markdown",
      "source": [
        "# Python Program to Get the Class Name of an Instance\n",
        "\n",
        "\n"
      ],
      "metadata": {
        "id": "_1urPJvn-G6n"
      }
    },
    {
      "cell_type": "markdown",
      "source": [
        "## Example 1: Using `__class__.__name__`"
      ],
      "metadata": {
        "id": "7eSTicY7B0aY"
      }
    },
    {
      "cell_type": "code",
      "source": [
        "class Vehicle:\n",
        "  pass\n",
        "\n",
        "\n",
        "v = Vehicle()\n",
        "print(v.__class__.__name__)"
      ],
      "metadata": {
        "colab": {
          "base_uri": "https://localhost:8080/"
        },
        "id": "Pm2BFEcdB2YM",
        "outputId": "db03c032-a636-4e3f-eb17-f66c0e055e64"
      },
      "execution_count": 9,
      "outputs": [
        {
          "output_type": "stream",
          "name": "stdout",
          "text": [
            "Vehicle\n"
          ]
        }
      ]
    },
    {
      "cell_type": "markdown",
      "source": [
        "## Example 2: Using `type()` and `__name__` attribute\n"
      ],
      "metadata": {
        "id": "yptj5nNkCNn3"
      }
    },
    {
      "cell_type": "code",
      "source": [
        "class Vehicle:\n",
        "    def name(self, name):\n",
        "        return name\n",
        "\n",
        "v = Vehicle()\n",
        "print(type(v).__name__)"
      ],
      "metadata": {
        "colab": {
          "base_uri": "https://localhost:8080/"
        },
        "id": "BTf1pgkCCTjJ",
        "outputId": "fd2af4b1-96fa-4350-d017-3e0bdeeb1028"
      },
      "execution_count": 10,
      "outputs": [
        {
          "output_type": "stream",
          "name": "stdout",
          "text": [
            "Vehicle\n"
          ]
        }
      ]
    }
  ]
}