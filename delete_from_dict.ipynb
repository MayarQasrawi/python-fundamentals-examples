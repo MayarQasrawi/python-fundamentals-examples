{
  "nbformat": 4,
  "nbformat_minor": 0,
  "metadata": {
    "colab": {
      "provenance": [],
      "authorship_tag": "ABX9TyM/7uH5jLt+KEGoVgYmgSZd",
      "include_colab_link": true
    },
    "kernelspec": {
      "name": "python3",
      "display_name": "Python 3"
    },
    "language_info": {
      "name": "python"
    }
  },
  "cells": [
    {
      "cell_type": "markdown",
      "metadata": {
        "id": "view-in-github",
        "colab_type": "text"
      },
      "source": [
        "<a href=\"https://colab.research.google.com/github/MayarQasrawi/python-fundamentals-examples/blob/main/delete_from_dict.ipynb\" target=\"_parent\"><img src=\"https://colab.research.google.com/assets/colab-badge.svg\" alt=\"Open In Colab\"/></a>"
      ]
    },
    {
      "cell_type": "markdown",
      "source": [
        "# Python Program to Delete an Element From a Dictionary if it exist"
      ],
      "metadata": {
        "id": "rH8lNuWfmM9x"
      }
    },
    {
      "cell_type": "code",
      "source": [
        "my_dict = {'a': 1,\n",
        "           'b': 2,\n",
        "           'c': 3,\n",
        "           'd': 4}\n",
        "key_to_delete ='a'\n",
        "\n",
        "print(\"Original Dictionary:\", my_dict)\n",
        "\n",
        "if key_to_delete in my_dict:\n",
        "    del my_dict[key_to_delete]\n",
        "    print(f\"The key '{key_to_delete}' has been deleted from the dictionary.\")\n",
        "else:\n",
        "    print(f\"The key '{key_to_delete}' does not exist in the dictionary.\")\n",
        "\n",
        "print(\"Updated Dictionary:\", my_dict)\n"
      ],
      "metadata": {
        "colab": {
          "base_uri": "https://localhost:8080/"
        },
        "id": "VAvgYoE6mQQv",
        "outputId": "2c26621a-5f1a-4f5a-d648-8f0d1db8d936"
      },
      "execution_count": 1,
      "outputs": [
        {
          "output_type": "stream",
          "name": "stdout",
          "text": [
            "Original Dictionary: {'a': 1, 'b': 2, 'c': 3, 'd': 4}\n",
            "The key 'a' has been deleted from the dictionary.\n",
            "Updated Dictionary: {'b': 2, 'c': 3, 'd': 4}\n"
          ]
        }
      ]
    },
    {
      "cell_type": "markdown",
      "source": [
        "#Delete value\n"
      ],
      "metadata": {
        "id": "82C7PWFwnZ4R"
      }
    },
    {
      "cell_type": "code",
      "source": [
        "value_to_delete =1;\n",
        "print(\"Original Dictionary:\", my_dict)\n",
        "\n",
        "key= [k for k,v in my_dict.items() if v== value_to_delete]\n",
        "\n",
        "if key:\n",
        "    del my_dict[key]"
      ],
      "metadata": {
        "id": "TicDJjt9m7VS"
      },
      "execution_count": null,
      "outputs": []
    }
  ]
}