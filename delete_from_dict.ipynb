{
  "nbformat": 4,
  "nbformat_minor": 0,
  "metadata": {
    "colab": {
      "provenance": [],
      "authorship_tag": "ABX9TyN9XOtO2TrS/C39xNRnOGvm",
      "include_colab_link": true
    },
    "kernelspec": {
      "name": "python3",
      "display_name": "Python 3"
    },
    "language_info": {
      "name": "python"
    }
  },
  "cells": [
    {
      "cell_type": "markdown",
      "metadata": {
        "id": "view-in-github",
        "colab_type": "text"
      },
      "source": [
        "<a href=\"https://colab.research.google.com/github/MayarQasrawi/python-fundamentals-examples/blob/main/delete_from_dict.ipynb\" target=\"_parent\"><img src=\"https://colab.research.google.com/assets/colab-badge.svg\" alt=\"Open In Colab\"/></a>"
      ]
    },
    {
      "cell_type": "markdown",
      "source": [
        "# Python Program to Sort Words in Alphabetic Order\n",
        "\n",
        "---\n",
        "\n"
      ],
      "metadata": {
        "id": "rH8lNuWfmM9x"
      }
    },
    {
      "cell_type": "code",
      "source": [
        "words =input(\"Enter words to sort:\")\n",
        "words = words.split()\n",
        "\n",
        "words.sort(key= str.lower)\n",
        "print(words)\n"
      ],
      "metadata": {
        "colab": {
          "base_uri": "https://localhost:8080/"
        },
        "id": "VAvgYoE6mQQv",
        "outputId": "fe642327-5c1a-4aa5-a0ee-e6ff281e0caf"
      },
      "execution_count": 23,
      "outputs": [
        {
          "output_type": "stream",
          "name": "stdout",
          "text": [
            "Enter words to sort:apple banana zoo cat ice  sky \n",
            "['apple', 'banana', 'cat', 'ice', 'sky', 'zoo']\n"
          ]
        }
      ]
    }
  ]
}