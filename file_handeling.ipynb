{
  "nbformat": 4,
  "nbformat_minor": 0,
  "metadata": {
    "colab": {
      "provenance": [],
      "authorship_tag": "ABX9TyOwUgJJfZgqtje4mQZDL+tS",
      "include_colab_link": true
    },
    "kernelspec": {
      "name": "python3",
      "display_name": "Python 3"
    },
    "language_info": {
      "name": "python"
    }
  },
  "cells": [
    {
      "cell_type": "markdown",
      "metadata": {
        "id": "view-in-github",
        "colab_type": "text"
      },
      "source": [
        "<a href=\"https://colab.research.google.com/github/MayarQasrawi/python-fundamentals-examples/blob/main/file_handeling.ipynb\" target=\"_parent\"><img src=\"https://colab.research.google.com/assets/colab-badge.svg\" alt=\"Open In Colab\"/></a>"
      ]
    },
    {
      "cell_type": "markdown",
      "source": [
        "# Python Program to Read and write to a file"
      ],
      "metadata": {
        "id": "oYWnjZvA4LBy"
      }
    },
    {
      "cell_type": "code",
      "source": [
        "# Writing to a file\n",
        "with open(\"test.txt\", \"w\") as f:\n",
        "    f.write(\"Hello, World!\\n\")\n",
        "    f.write(\"This is a file handling example.\\n\")\n",
        "    f.write(\"------------------- \\n\")\n",
        "\n",
        "# Reading from the same file\n",
        "with open(\"test.txt\", \"r\") as f:\n",
        "    content = f.read()\n",
        "    print(\"File Content:\\n\")\n",
        "    print(content)"
      ],
      "metadata": {
        "colab": {
          "base_uri": "https://localhost:8080/"
        },
        "id": "ydgabXk44WzA",
        "outputId": "437a9216-f3a6-4397-9adb-b1111a02eba6"
      },
      "execution_count": 1,
      "outputs": [
        {
          "output_type": "stream",
          "name": "stdout",
          "text": [
            "File Content:\n",
            "\n",
            "Hello, World!\n",
            "This is a file handling example.\n",
            "------------------- \n",
            "\n"
          ]
        }
      ]
    },
    {
      "cell_type": "markdown",
      "source": [
        "# Python Program to Append to a File"
      ],
      "metadata": {
        "id": "_Ho8MpCX4X1i"
      }
    },
    {
      "cell_type": "code",
      "source": [
        "with open(\"test.txt\", \"a\") as f:\n",
        "    f.write(\"Append contant \\n\")\n",
        "\n",
        "with open(\"test.txt\", \"r\") as f:\n",
        "    content = f.read()\n",
        "    print(\"File Content:\\n\")\n",
        "    print(content)\n"
      ],
      "metadata": {
        "colab": {
          "base_uri": "https://localhost:8080/"
        },
        "id": "Kb08LAVx4dHs",
        "outputId": "7ce3cbd4-db53-4962-9340-a226ede434c2"
      },
      "execution_count": 2,
      "outputs": [
        {
          "output_type": "stream",
          "name": "stdout",
          "text": [
            "File Content:\n",
            "\n",
            "Hello, World!\n",
            "This is a file handling example.\n",
            "------------------- \n",
            "Append contant \n",
            "\n"
          ]
        }
      ]
    }
  ]
}