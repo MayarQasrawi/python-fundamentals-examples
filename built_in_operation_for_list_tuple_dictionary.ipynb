{
  "nbformat": 4,
  "nbformat_minor": 0,
  "metadata": {
    "colab": {
      "provenance": [],
      "authorship_tag": "ABX9TyPC/8rb4Jc2QmwERjL7JV7g",
      "include_colab_link": true
    },
    "kernelspec": {
      "name": "python3",
      "display_name": "Python 3"
    },
    "language_info": {
      "name": "python"
    }
  },
  "cells": [
    {
      "cell_type": "markdown",
      "metadata": {
        "id": "view-in-github",
        "colab_type": "text"
      },
      "source": [
        "<a href=\"https://colab.research.google.com/github/MayarQasrawi/python-fundamentals-examples/blob/main/built_in_operation_for_list_tuple_dictionary.ipynb\" target=\"_parent\"><img src=\"https://colab.research.google.com/assets/colab-badge.svg\" alt=\"Open In Colab\"/></a>"
      ]
    },
    {
      "cell_type": "markdown",
      "source": [
        "# Python Program that uses built in operator with dictionary, list and tuple"
      ],
      "metadata": {
        "id": "y7WT5Cumx1EN"
      }
    },
    {
      "cell_type": "markdown",
      "source": [
        "# List"
      ],
      "metadata": {
        "id": "uFwpaReWxu1Q"
      }
    },
    {
      "cell_type": "code",
      "source": [
        "my_list=['a',1,4,\"mayar\"]\n",
        "my_list.append(5)\n",
        "my_list"
      ],
      "metadata": {
        "colab": {
          "base_uri": "https://localhost:8080/"
        },
        "id": "i0CMP7GOxwfa",
        "outputId": "6a66b12e-b8d9-4573-e1f2-23e4f88dbe2e"
      },
      "execution_count": 111,
      "outputs": [
        {
          "output_type": "execute_result",
          "data": {
            "text/plain": [
              "['a', 1, 4, 'mayar', 5]"
            ]
          },
          "metadata": {},
          "execution_count": 111
        }
      ]
    },
    {
      "cell_type": "code",
      "source": [
        "my_list.pop()"
      ],
      "metadata": {
        "colab": {
          "base_uri": "https://localhost:8080/"
        },
        "id": "EA1H0x5AyEzL",
        "outputId": "e7bb38fb-eb68-4490-b24d-1579a8a4d98d"
      },
      "execution_count": 112,
      "outputs": [
        {
          "output_type": "execute_result",
          "data": {
            "text/plain": [
              "5"
            ]
          },
          "metadata": {},
          "execution_count": 112
        }
      ]
    },
    {
      "cell_type": "code",
      "source": [
        "my_list.insert(0,22)\n",
        "my_list"
      ],
      "metadata": {
        "colab": {
          "base_uri": "https://localhost:8080/"
        },
        "id": "9NukQ_RLyHTX",
        "outputId": "41131597-369c-410e-fcd4-3a68faaf8c33"
      },
      "execution_count": 113,
      "outputs": [
        {
          "output_type": "execute_result",
          "data": {
            "text/plain": [
              "[22, 'a', 1, 4, 'mayar']"
            ]
          },
          "metadata": {},
          "execution_count": 113
        }
      ]
    },
    {
      "cell_type": "code",
      "source": [
        "my_list.reverse()\n",
        "my_list"
      ],
      "metadata": {
        "colab": {
          "base_uri": "https://localhost:8080/"
        },
        "id": "zDRSfh1myPbE",
        "outputId": "a1ce0b09-db89-424a-bebf-b45a05b80b1b"
      },
      "execution_count": 114,
      "outputs": [
        {
          "output_type": "execute_result",
          "data": {
            "text/plain": [
              "['mayar', 4, 1, 'a', 22]"
            ]
          },
          "metadata": {},
          "execution_count": 114
        }
      ]
    },
    {
      "cell_type": "code",
      "source": [
        "my_list.remove('mayar')\n",
        "my_list"
      ],
      "metadata": {
        "colab": {
          "base_uri": "https://localhost:8080/"
        },
        "id": "XF6yta55yRFY",
        "outputId": "6f4b2f04-0811-40c2-89fe-12fb3221a7e1"
      },
      "execution_count": 115,
      "outputs": [
        {
          "output_type": "execute_result",
          "data": {
            "text/plain": [
              "[4, 1, 'a', 22]"
            ]
          },
          "metadata": {},
          "execution_count": 115
        }
      ]
    },
    {
      "cell_type": "code",
      "source": [
        "del my_list\n",
        "my_list"
      ],
      "metadata": {
        "colab": {
          "base_uri": "https://localhost:8080/",
          "height": 158
        },
        "id": "GqYAs1BNydHs",
        "outputId": "287c6407-9483-471e-fca4-6f1b661bff88"
      },
      "execution_count": 116,
      "outputs": [
        {
          "output_type": "error",
          "ename": "NameError",
          "evalue": "name 'my_list' is not defined",
          "traceback": [
            "\u001b[0;31m---------------------------------------------------------------------------\u001b[0m",
            "\u001b[0;31mNameError\u001b[0m                                 Traceback (most recent call last)",
            "\u001b[0;32m/tmp/ipython-input-3600325710.py\u001b[0m in \u001b[0;36m<cell line: 0>\u001b[0;34m()\u001b[0m\n\u001b[1;32m      1\u001b[0m \u001b[0;32mdel\u001b[0m \u001b[0mmy_list\u001b[0m\u001b[0;34m\u001b[0m\u001b[0;34m\u001b[0m\u001b[0m\n\u001b[0;32m----> 2\u001b[0;31m \u001b[0mmy_list\u001b[0m\u001b[0;34m\u001b[0m\u001b[0;34m\u001b[0m\u001b[0m\n\u001b[0m",
            "\u001b[0;31mNameError\u001b[0m: name 'my_list' is not defined"
          ]
        }
      ]
    },
    {
      "cell_type": "markdown",
      "source": [
        "# Tuple"
      ],
      "metadata": {
        "id": "j8bzfq-byqZY"
      }
    },
    {
      "cell_type": "code",
      "source": [
        "my_tuple = (1, 2, 3, 4, 5)\n",
        "single_tuple = (1,)  # single element tuple must have a comma\n",
        "\n",
        "print(\"Tuple:\", my_tuple)\n",
        "print(\"Single element tuple:\", single_tuple)\n",
        "\n",
        "print(\"First element:\", my_tuple[0])\n",
        "print(\"Count of 1 in tuple:\", my_tuple.count(1))\n",
        "print(\"Index of 1 in tuple:\", my_tuple.index(1))\n",
        "print(\"Length of tuple:\", len(my_tuple))\n",
        "print(\"Maximum value in tuple:\", max(my_tuple))\n",
        "print(\"Minimum value in tuple:\", min(my_tuple))\n",
        "print(\"Sum of all elements:\", sum(my_tuple))\n",
        "\n",
        "print(\"\\nIterating through the tuple:\")\n",
        "for item in my_tuple:\n",
        "    print(item, end=\" \") #prints the item without a newline, and adds a space after it instead.\n",
        "\n"
      ],
      "metadata": {
        "colab": {
          "base_uri": "https://localhost:8080/"
        },
        "id": "Cpn4OE4Lys8r",
        "outputId": "841e09d1-6403-46ad-95ff-e078bf1815b6"
      },
      "execution_count": 83,
      "outputs": [
        {
          "output_type": "stream",
          "name": "stdout",
          "text": [
            "Tuple: (1, 2, 3, 4, 5)\n",
            "Single element tuple: (1,)\n",
            "First element: 1\n",
            "Count of 1 in tuple: 1\n",
            "Index of 1 in tuple: 0\n",
            "Length of tuple: 5\n",
            "Maximum value in tuple: 5\n",
            "Minimum value in tuple: 1\n",
            "Sum of all elements: 15\n",
            "\n",
            "Iterating through the tuple:\n",
            "1\n",
            "2\n",
            "3\n",
            "4\n",
            "5\n"
          ]
        }
      ]
    },
    {
      "cell_type": "code",
      "source": [
        "t1 = (1, 2, 3)\n",
        "t2 = (4, 5)\n",
        "\n",
        "print(t1 + t2)   # Concatenation\n",
        "print(t1 * 2)    # Repetition\n",
        "print(2 in t1)   # Membership\n"
      ],
      "metadata": {
        "colab": {
          "base_uri": "https://localhost:8080/"
        },
        "id": "2Rj1nBjQ5Ds7",
        "outputId": "8af565eb-79ce-4da8-aeac-68fa08de3854"
      },
      "execution_count": 84,
      "outputs": [
        {
          "output_type": "stream",
          "name": "stdout",
          "text": [
            "(1, 2, 3, 4, 5)\n",
            "(1, 2, 3, 1, 2, 3)\n",
            "True\n"
          ]
        }
      ]
    },
    {
      "cell_type": "markdown",
      "source": [
        "# Dictionay"
      ],
      "metadata": {
        "id": "rFeqyEnc7BU6"
      }
    },
    {
      "cell_type": "code",
      "source": [
        "my_dict = {'a': 1, 'b': 2, 'c': 3}\n",
        "\n",
        "print(\"Dictionary:\", my_dict)\n",
        "print(\"Keys:\", my_dict.keys())\n",
        "print(\"Values:\", my_dict.values())\n",
        "print(\"Items:\", my_dict.items())\n",
        "\n",
        "print(\"\\nAccessing values:\")\n",
        "print(\"Value of 'a':\", my_dict['a'])\n",
        "print(\"Value of 'b':\", my_dict.get('b'))\n",
        "\n",
        "print(\"\\nUpdating dictionary:\")\n",
        "my_dict['d'] = 4\n",
        "print(\"Updated dictionary:\", my_dict)"
      ],
      "metadata": {
        "colab": {
          "base_uri": "https://localhost:8080/"
        },
        "id": "h3NzqPqz7GCb",
        "outputId": "ab7050ed-a644-41bf-89d5-c5da494de4dd"
      },
      "execution_count": 104,
      "outputs": [
        {
          "output_type": "stream",
          "name": "stdout",
          "text": [
            "Dictionary: {'a': 1, 'b': 2, 'c': 3}\n",
            "Keys: dict_keys(['a', 'b', 'c'])\n",
            "Values: dict_values([1, 2, 3])\n",
            "Items: dict_items([('a', 1), ('b', 2), ('c', 3)])\n",
            "\n",
            "Accessing values:\n",
            "Value of 'a': 1\n",
            "Value of 'b': 2\n",
            "\n",
            "Updating dictionary:\n",
            "Updated dictionary: {'a': 1, 'b': 2, 'c': 3, 'd': 4}\n"
          ]
        }
      ]
    },
    {
      "cell_type": "code",
      "source": [
        "my_dict.pop('b')          # removes key 'b'\n",
        "print(\"remove key b\", my_dict)\n",
        "my_dict.popitem()          # removes last inserted item\n",
        "print(\"remove last item\",my_dict)\n",
        "del my_dict['c']          # delete specific key\n",
        "print(\"delete specific key c\",my_dict)\n",
        "my_dict.clear()           # remove all items\n",
        "print(\"remove all items\",my_dict)\n",
        "del my_dict               # delete dictionary\n",
        "\n"
      ],
      "metadata": {
        "colab": {
          "base_uri": "https://localhost:8080/"
        },
        "id": "NpLdrPEx7kX1",
        "outputId": "f1fd2810-7d14-4c14-af4c-43d4f787251e"
      },
      "execution_count": 105,
      "outputs": [
        {
          "output_type": "stream",
          "name": "stdout",
          "text": [
            "remove key b {'a': 1, 'c': 3, 'd': 4}\n",
            "remove last item {'a': 1, 'c': 3}\n",
            "delete specific key c {'a': 1}\n",
            "remove all items {}\n"
          ]
        }
      ]
    }
  ]
}