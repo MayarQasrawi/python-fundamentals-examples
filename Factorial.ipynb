{
  "nbformat": 4,
  "nbformat_minor": 0,
  "metadata": {
    "colab": {
      "provenance": [],
      "authorship_tag": "ABX9TyMWRVj3kZg90+APSKC8sIjk",
      "include_colab_link": true
    },
    "kernelspec": {
      "name": "python3",
      "display_name": "Python 3"
    },
    "language_info": {
      "name": "python"
    }
  },
  "cells": [
    {
      "cell_type": "markdown",
      "metadata": {
        "id": "view-in-github",
        "colab_type": "text"
      },
      "source": [
        "<a href=\"https://colab.research.google.com/github/MayarQasrawi/python-fundamentals-examples/blob/main/Factorial.ipynb\" target=\"_parent\"><img src=\"https://colab.research.google.com/assets/colab-badge.svg\" alt=\"Open In Colab\"/></a>"
      ]
    },
    {
      "cell_type": "markdown",
      "source": [
        "# Python Program to Find the Factorial of a Number"
      ],
      "metadata": {
        "id": "_1urPJvn-G6n"
      }
    },
    {
      "cell_type": "code",
      "source": [
        "def factorial(num):\n",
        "    if num == 0 or num == 1:\n",
        "        return 1\n",
        "    result = 1\n",
        "    for i in range(2, num + 1):\n",
        "        result *= i\n",
        "    return result\n",
        "\n",
        "# Test\n",
        "test_numbers = [0, 1, 2, 3, 4, 5, 6, 7, 10]\n",
        "\n",
        "print(\"Testing factorial function:\")\n",
        "print(\"-\" * 30)\n",
        "\n",
        "for num in test_numbers:\n",
        "    print(f\"{num}! = {factorial(num)}\")"
      ],
      "metadata": {
        "colab": {
          "base_uri": "https://localhost:8080/"
        },
        "id": "KaP7pfz0-KQb",
        "outputId": "fcf08217-c8f2-4278-e3c0-9d9a1f989cf2"
      },
      "execution_count": 4,
      "outputs": [
        {
          "output_type": "stream",
          "name": "stdout",
          "text": [
            "Testing factorial function:\n",
            "------------------------------\n",
            "0! = 1\n",
            "1! = 1\n",
            "2! = 2\n",
            "3! = 6\n",
            "4! = 24\n",
            "5! = 120\n",
            "6! = 720\n",
            "7! = 5040\n",
            "10! = 3628800\n"
          ]
        }
      ]
    }
  ]
}