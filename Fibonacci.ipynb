{
  "nbformat": 4,
  "nbformat_minor": 0,
  "metadata": {
    "colab": {
      "provenance": [],
      "authorship_tag": "ABX9TyPrd3JX8xsV48lHeoNXYg3v",
      "include_colab_link": true
    },
    "kernelspec": {
      "name": "python3",
      "display_name": "Python 3"
    },
    "language_info": {
      "name": "python"
    }
  },
  "cells": [
    {
      "cell_type": "markdown",
      "metadata": {
        "id": "view-in-github",
        "colab_type": "text"
      },
      "source": [
        "<a href=\"https://colab.research.google.com/github/MayarQasrawi/python-fundamentals-examples/blob/main/Fibonacci.ipynb\" target=\"_parent\"><img src=\"https://colab.research.google.com/assets/colab-badge.svg\" alt=\"Open In Colab\"/></a>"
      ]
    },
    {
      "cell_type": "markdown",
      "source": [
        "# Python Program to Print the Fibonacci sequence"
      ],
      "metadata": {
        "id": "_1urPJvn-G6n"
      }
    },
    {
      "cell_type": "code",
      "source": [
        "def fibonacci_list(n):\n",
        "\n",
        "    if n <= 0:\n",
        "        return []\n",
        "    if n == 1:\n",
        "        return [0]\n",
        "    if n == 2:\n",
        "        return [0, 1]\n",
        "\n",
        "    # For n > 2, build the sequence\n",
        "    fib_list = [0, 1]\n",
        "    for i in range(2, n):\n",
        "        fib_list.append(fib_list[i-1] + fib_list[i-2])\n",
        "\n",
        "    return fib_list"
      ],
      "metadata": {
        "colab": {
          "base_uri": "https://localhost:8080/"
        },
        "id": "KaP7pfz0-KQb",
        "outputId": "ab552e93-c657-4916-c8fd-222ea04753d7"
      },
      "execution_count": 5,
      "outputs": [
        {
          "output_type": "stream",
          "name": "stdout",
          "text": [
            "Fibonacci list: [0, 1, 1, 2, 3, 5, 8, 13, 21, 34, 55, 89]\n"
          ]
        }
      ]
    }
  ]
}