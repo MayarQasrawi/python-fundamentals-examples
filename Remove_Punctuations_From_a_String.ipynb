{
  "nbformat": 4,
  "nbformat_minor": 0,
  "metadata": {
    "colab": {
      "provenance": [],
      "authorship_tag": "ABX9TyNJq6i2OuirOG+GcHQMlSEa",
      "include_colab_link": true
    },
    "kernelspec": {
      "name": "python3",
      "display_name": "Python 3"
    },
    "language_info": {
      "name": "python"
    }
  },
  "cells": [
    {
      "cell_type": "markdown",
      "metadata": {
        "id": "view-in-github",
        "colab_type": "text"
      },
      "source": [
        "<a href=\"https://colab.research.google.com/github/MayarQasrawi/python-fundamentals-examples/blob/main/Remove_Punctuations_From_a_String.ipynb\" target=\"_parent\"><img src=\"https://colab.research.google.com/assets/colab-badge.svg\" alt=\"Open In Colab\"/></a>"
      ]
    },
    {
      "cell_type": "markdown",
      "source": [
        "# Python Program to Remove Punctuations From a String\n"
      ],
      "metadata": {
        "id": "rH8lNuWfmM9x"
      }
    },
    {
      "cell_type": "code",
      "source": [
        "import string\n",
        "sent= \"Hi, I'm Mayar!!!\"\n",
        "\n",
        "sent=[c for c in sent if c not in string.punctuation ]\n",
        "print(''.join(sent))\n",
        "\n",
        "\n"
      ],
      "metadata": {
        "colab": {
          "base_uri": "https://localhost:8080/"
        },
        "id": "VAvgYoE6mQQv",
        "outputId": "988543d0-7aea-4190-81c1-6df56db09139"
      },
      "execution_count": 31,
      "outputs": [
        {
          "output_type": "stream",
          "name": "stdout",
          "text": [
            "Hi Im Mayar\n"
          ]
        }
      ]
    }
  ]
}